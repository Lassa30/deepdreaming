{
 "cells": [
  {
   "cell_type": "code",
   "execution_count": 7,
   "id": "80fb5ed6",
   "metadata": {},
   "outputs": [
    {
     "name": "stdout",
     "output_type": "stream",
     "text": [
      "The autoreload extension is already loaded. To reload it, use:\n",
      "  %reload_ext autoreload\n"
     ]
    }
   ],
   "source": [
    "import sys\n",
    "import os\n",
    "sys.path.append(\"/kaggle/working/deepdreaming\")\n",
    "########################################################################\n",
    "from deepdreaming import img\n",
    "from deepdreaming import display\n",
    "from deepdreaming.utils import read_image_net_classes\n",
    "from deepdreaming import deepdream as dd\n",
    "\n",
    "\n",
    "import numpy as np\n",
    "from matplotlib import pyplot as plt\n",
    "\n",
    "import torch\n",
    "from torchvision.models import vgg16_bn\n",
    "from torchvision.models import VGG16_BN_Weights\n",
    "\n",
    "import cv2 as cv\n",
    "########################################################################\n",
    "SEED = 42\n",
    "def set_seeds(seed_value):\n",
    "    np.random.seed(seed_value)\n",
    "    torch.manual_seed(seed_value)\n",
    "    torch.cuda.manual_seed_all(seed_value)\n",
    "    torch.backends.cudnn.deterministic = True\n",
    "    torch.backends.cudnn.benchmark = False\n",
    "\n",
    "set_seeds(SEED)\n",
    "########################################################################\n",
    "%matplotlib inline\n",
    "%load_ext autoreload\n",
    "%autoreload 2"
   ]
  },
  {
   "cell_type": "code",
   "execution_count": 8,
   "id": "2d5c9a25",
   "metadata": {},
   "outputs": [
    {
     "name": "stdout",
     "output_type": "stream",
     "text": [
      "Downloading: \"https://download.pytorch.org/models/vgg16_bn-6c64b313.pth\" to /home/vlad/.cache/torch/hub/checkpoints/vgg16_bn-6c64b313.pth\n"
     ]
    },
    {
     "name": "stderr",
     "output_type": "stream",
     "text": [
      "100%|██████████| 528M/528M [05:06<00:00, 1.81MB/s] \n"
     ]
    },
    {
     "ename": "AssertionError",
     "evalue": "Not valid filepath: /kaggle/working/image_net_classes/imagenet_classes.txt",
     "output_type": "error",
     "traceback": [
      "\u001b[31m---------------------------------------------------------------------------\u001b[39m",
      "\u001b[31mAssertionError\u001b[39m                            Traceback (most recent call last)",
      "\u001b[36mCell\u001b[39m\u001b[36m \u001b[39m\u001b[32mIn[8]\u001b[39m\u001b[32m, line 15\u001b[39m\n\u001b[32m     13\u001b[39m MODEL = vgg16_bn(weights=VGG16_BN_Weights.DEFAULT).to(device).eval()\n\u001b[32m     14\u001b[39m MODEL.requires_grad_(\u001b[38;5;28;01mFalse\u001b[39;00m);\n\u001b[32m---> \u001b[39m\u001b[32m15\u001b[39m IMAGE_NET_CLASSES = \u001b[43mread_image_net_classes\u001b[49m\u001b[43m(\u001b[49m\u001b[43mIMAGE_NET_CLASSES_PATH\u001b[49m\u001b[43m)\u001b[49m\n",
      "\u001b[36mFile \u001b[39m\u001b[32m~/source/deepdreaming/deepdreaming/utils.py:4\u001b[39m, in \u001b[36mread_image_net_classes\u001b[39m\u001b[34m(filepath)\u001b[39m\n\u001b[32m      3\u001b[39m \u001b[38;5;28;01mdef\u001b[39;00m\u001b[38;5;250m \u001b[39m\u001b[34mread_image_net_classes\u001b[39m(filepath):\n\u001b[32m----> \u001b[39m\u001b[32m4\u001b[39m     \u001b[38;5;28;01massert\u001b[39;00m os.path.exists(filepath), \u001b[33mf\u001b[39m\u001b[33m\"\u001b[39m\u001b[33mNot valid filepath: \u001b[39m\u001b[38;5;132;01m{\u001b[39;00mfilepath\u001b[38;5;132;01m}\u001b[39;00m\u001b[33m\"\u001b[39m\n\u001b[32m      6\u001b[39m     result = {}\n\u001b[32m      7\u001b[39m     \u001b[38;5;28;01mwith\u001b[39;00m \u001b[38;5;28mopen\u001b[39m(filepath, \u001b[33m\"\u001b[39m\u001b[33mr\u001b[39m\u001b[33m\"\u001b[39m) \u001b[38;5;28;01mas\u001b[39;00m file:\n",
      "\u001b[31mAssertionError\u001b[39m: Not valid filepath: /kaggle/working/image_net_classes/imagenet_classes.txt"
     ]
    }
   ],
   "source": [
    "TARGET_SHAPE = (224, 224, 3)\n",
    "\n",
    "# IMAGE_NET_CLASSES_PATH = \"/kaggle/working/image_net_classes/imagenet_classes.txt\"\n",
    "# INPUT_IMAGES_DIR = \"/kaggle/input/deepdream-sample-images\"\n",
    "# OUTPUT_IMAGES_DIR = \"/kaggle/working/output\"\n",
    "\n",
    "# assert os.path.exists(IMAGE_NET_CLASSES_PATH), \"Please provide a valid `IMAGE_NET_CLASSES_PATH`\"\n",
    "# assert os.path.exists(INPUT_IMAGES_DIR), \"Please provide a valid `INPUT_IMAGES_DIR`\"\n",
    "# assert os.path.exists(OUTPUT_IMAGES_DIR), \"Please provide a valid `DEEPDREAM_OUTPUT_PATH`\"\n",
    "\n",
    "\n",
    "device = \"cuda\" if torch.cuda.is_available() else \"cpu\"\n",
    "MODEL = vgg16_bn(weights=VGG16_BN_Weights.DEFAULT).to(device).eval()\n",
    "MODEL.requires_grad_(False);\n",
    "IMAGE_NET_CLASSES = read_image_net_classes(IMAGE_NET_CLASSES_PATH)"
   ]
  },
  {
   "cell_type": "code",
   "execution_count": null,
   "id": "185b239a",
   "metadata": {},
   "outputs": [],
   "source": []
  }
 ],
 "metadata": {
  "kernelspec": {
   "display_name": ".venv",
   "language": "python",
   "name": "python3"
  },
  "language_info": {
   "codemirror_mode": {
    "name": "ipython",
    "version": 3
   },
   "file_extension": ".py",
   "mimetype": "text/x-python",
   "name": "python",
   "nbconvert_exporter": "python",
   "pygments_lexer": "ipython3",
   "version": "3.12.3"
  }
 },
 "nbformat": 4,
 "nbformat_minor": 5
}
