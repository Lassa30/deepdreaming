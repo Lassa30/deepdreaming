{
 "cells": [
  {
   "cell_type": "markdown",
   "metadata": {
    "execution": {
     "iopub.execute_input": "2025-05-23T13:58:44.843918Z",
     "iopub.status.busy": "2025-05-23T13:58:44.843494Z",
     "iopub.status.idle": "2025-05-23T13:58:44.852713Z",
     "shell.execute_reply": "2025-05-23T13:58:44.851061Z",
     "shell.execute_reply.started": "2025-05-23T13:58:44.843892Z"
    }
   },
   "source": [
    "# DeepDream Starter 🚀\n",
    "\n",
    "Welcome! This notebook is your hands-on introduction to DeepDream, the algorithm that turns ordinary images into wild, dream-like art using neural networks.\n",
    "\n",
    "Here’s what you’ll find inside:\n",
    "- **How DeepDream works:** See how we use a pre-trained ResNet50 to amplify patterns in your images, step by step.\n",
    "- **Single-image DeepDream:** Apply the algorithm to your own images and compare the before/after results side by side.\n",
    "- **Reference image dreaming:** Use one image to “dream” features onto another.\n",
    "- **Image classification:** Check how a neural network’s predictions change before and after DeepDreaming.\n",
    "- **Next steps:** Get ideas for making your dreams even weirder with tricks like image pyramids and gradient smoothing."
   ]
  },
  {
   "cell_type": "markdown",
   "metadata": {},
   "source": [
    "# Setting things up 🔨"
   ]
  },
  {
   "cell_type": "code",
   "execution_count": null,
   "metadata": {
    "execution": {
     "iopub.execute_input": "2025-05-23T14:23:51.352637Z",
     "iopub.status.busy": "2025-05-23T14:23:51.352207Z",
     "iopub.status.idle": "2025-05-23T14:23:51.663938Z",
     "shell.execute_reply": "2025-05-23T14:23:51.662692Z",
     "shell.execute_reply.started": "2025-05-23T14:23:51.352585Z"
    },
    "trusted": true
   },
   "outputs": [],
   "source": [
    "# THE CELL TO UNCOMMENT ON KAGGLE\n",
    "\n",
    "# get ImageNet classes text\n",
    "#!git clone https://gist.github.com/4e1342c10a71981d0b491e1b8227328b.git input/image_net_classes\n",
    "\n",
    "# clone repo with code\n",
    "#!git clone --single-branch --branch basic-deepdream https://github.com/Lassa30/deepdreaming"
   ]
  },
  {
   "cell_type": "markdown",
   "metadata": {},
   "source": [
    "## Imports"
   ]
  },
  {
   "cell_type": "code",
   "execution_count": null,
   "metadata": {
    "_cell_guid": "b1076dfc-b9ad-4769-8c92-a6c4dae69d19",
    "_uuid": "8f2839f25d086af736a60e9eeb907d3b93b6e0e5",
    "execution": {
     "iopub.execute_input": "2025-05-23T14:23:51.667216Z",
     "iopub.status.busy": "2025-05-23T14:23:51.666886Z",
     "iopub.status.idle": "2025-05-23T14:23:51.674745Z",
     "shell.execute_reply": "2025-05-23T14:23:51.673674Z",
     "shell.execute_reply.started": "2025-05-23T14:23:51.667186Z"
    },
    "trusted": true
   },
   "outputs": [],
   "source": [
    "import sys\n",
    "import os\n",
    "sys.path.append(\".\")\n",
    "########################################################################\n",
    "from deepdreaming import img\n",
    "from deepdreaming import display\n",
    "from deepdreaming.utils import read_image_net_classes\n",
    "from deepdreaming import deepdream as dd\n",
    "\n",
    "\n",
    "import numpy as np\n",
    "from matplotlib import pyplot as plt\n",
    "\n",
    "import torch\n",
    "from torchvision.models import resnet50 # works fast with CPU\n",
    "from torchvision.models import ResNet50_Weights\n",
    "\n",
    "import cv2 as cv\n",
    "########################################################################\n",
    "SEED = 42\n",
    "def set_seeds(seed_value):\n",
    "    np.random.seed(seed_value)\n",
    "    torch.manual_seed(seed_value)\n",
    "    torch.cuda.manual_seed_all(seed_value)\n",
    "    torch.backends.cudnn.deterministic = True\n",
    "    torch.backends.cudnn.benchmark = False\n",
    "\n",
    "set_seeds(SEED)\n",
    "########################################################################\n",
    "%matplotlib inline\n",
    "%load_ext autoreload\n",
    "%autoreload 2"
   ]
  },
  {
   "cell_type": "markdown",
   "metadata": {},
   "source": [
    "## Constants"
   ]
  },
  {
   "cell_type": "code",
   "execution_count": null,
   "metadata": {
    "_kg_hide-input": true,
    "execution": {
     "iopub.execute_input": "2025-05-23T14:23:51.714772Z",
     "iopub.status.busy": "2025-05-23T14:23:51.714378Z",
     "iopub.status.idle": "2025-05-23T14:23:52.242966Z",
     "shell.execute_reply": "2025-05-23T14:23:52.241506Z",
     "shell.execute_reply.started": "2025-05-23T14:23:51.714745Z"
    },
    "trusted": true
   },
   "outputs": [],
   "source": [
    "TARGET_SHAPE = (224, 224, 3)\n",
    "\n",
    "IMAGE_NET_CLASSES_PATH = \"image_net_classes/imagenet_classes.txt\"\n",
    "INPUT_IMAGES_DIR = \"input/deepdream-sample-images\"\n",
    "OUTPUT_IMAGES_DIR = \"./output\"\n",
    "\n",
    "assert os.path.exists(IMAGE_NET_CLASSES_PATH), \"Please provide a valid `IMAGE_NET_CLASSES_PATH`\"\n",
    "assert os.path.exists(INPUT_IMAGES_DIR), \"Please provide a valid `INPUT_IMAGES_DIR`\"\n",
    "assert os.path.exists(OUTPUT_IMAGES_DIR), \"Please provide a valid `DEEPDREAM_OUTPUT_PATH`\"\n",
    "\n",
    "\n",
    "device = \"cuda\" if torch.cuda.is_available() else \"cpu\"\n",
    "MODEL = resnet50(weights=ResNet50_Weights.DEFAULT).to(device).eval()\n",
    "MODEL.requires_grad_(False);\n",
    "IMAGE_NET_CLASSES = read_image_net_classes(IMAGE_NET_CLASSES_PATH)"
   ]
  },
  {
   "cell_type": "markdown",
   "metadata": {},
   "source": [
    "# DeepDream 🎨"
   ]
  },
  {
   "cell_type": "markdown",
   "metadata": {},
   "source": [
    "## Single image\n",
    "**Applying DeepDream algorithm to each image and comparing it to itself before DeepDream**"
   ]
  },
  {
   "cell_type": "code",
   "execution_count": null,
   "metadata": {
    "execution": {
     "iopub.execute_input": "2025-05-23T14:23:52.262368Z",
     "iopub.status.busy": "2025-05-23T14:23:52.262101Z",
     "iopub.status.idle": "2025-05-23T14:25:53.505915Z",
     "shell.execute_reply": "2025-05-23T14:25:53.504890Z",
     "shell.execute_reply.started": "2025-05-23T14:23:52.262350Z"
    },
    "trusted": true
   },
   "outputs": [],
   "source": [
    "deepdream = dd.DeepDream(MODEL, [\"layer2[3].relu\", \"layer3[5].conv1\"])\n",
    "sample_images = [os.path.join(INPUT_IMAGES_DIR, file_name) for file_name in os.listdir(INPUT_IMAGES_DIR)]\n",
    "\n",
    "for sample_image in sample_images:\n",
    "    # read 'n' dream\n",
    "    image : np.ndarray = img.io.read_image(sample_image, TARGET_SHAPE)\n",
    "    out = deepdream.dream(image)\n",
    "\n",
    "    #compare 'n' show\n",
    "    display.display_two_img(image, out)\n",
    "    plt.show()\n",
    "    \n",
    "    # transform for OpenCV\n",
    "    out = img.proc.to_cv(out)\n",
    "    # save\n",
    "    file = f\"{sample_image.split('/')[-1]}\"\n",
    "    fullpath = os.path.join(OUTPUT_IMAGES_DIR, file)\n",
    "    success = cv.imwrite(fullpath, out)\n",
    "    \n",
    "    assert success, f\"Image {fullpath} is not saved successfully...\""
   ]
  },
  {
   "cell_type": "markdown",
   "metadata": {},
   "source": [
    "## Using reference image\n",
    "**Dreaming with the reference image provided**"
   ]
  },
  {
   "cell_type": "code",
   "execution_count": null,
   "metadata": {},
   "outputs": [],
   "source": [
    "get_path = lambda prefix, name: os.path.join(prefix, name)\n",
    "\n",
    "# some experimental layer with cool results - feel free to change!\n",
    "deepdream = dd.DeepDream(MODEL, [\"layer3[0].relu\", \"layer3[1].relu\", \"layer4[0].conv1\"])"
   ]
  },
  {
   "cell_type": "markdown",
   "metadata": {},
   "source": [
    "### Dart Vader + Yoda"
   ]
  },
  {
   "cell_type": "code",
   "execution_count": null,
   "metadata": {},
   "outputs": [],
   "source": [
    "from deepdreaming.img.io import read_image\n",
    "\n",
    "image = read_image(get_path(INPUT_IMAGES_DIR, \"yoda.jpeg\"), TARGET_SHAPE)\n",
    "reference = read_image(get_path(INPUT_IMAGES_DIR, \"dart_vader.jpeg\"), TARGET_SHAPE)\n",
    "\n",
    "out = deepdream.dream(image, reference, learning_rate=0.05, num_iterations=50)\n",
    "display.display_two_img(image, out)"
   ]
  },
  {
   "cell_type": "markdown",
   "metadata": {},
   "source": [
    "### Bombordiro Crocodilo + Tung Tung Tung Sahur"
   ]
  },
  {
   "cell_type": "code",
   "execution_count": null,
   "metadata": {},
   "outputs": [],
   "source": [
    "from deepdreaming.img.io import read_image\n",
    "\n",
    "image = read_image(get_path(INPUT_IMAGES_DIR, \"bombordiro_crocodilo.jpeg\"), TARGET_SHAPE)\n",
    "reference = read_image(get_path(INPUT_IMAGES_DIR, \"sahur.jpeg\"), TARGET_SHAPE)\n",
    "\n",
    "out = deepdream.dream(image, reference, learning_rate=0.05, num_iterations=100)\n",
    "display.display_two_img(image, out)\n"
   ]
  },
  {
   "cell_type": "markdown",
   "metadata": {},
   "source": [
    "### Space + Ferrari"
   ]
  },
  {
   "cell_type": "code",
   "execution_count": null,
   "metadata": {},
   "outputs": [],
   "source": [
    "from deepdreaming.img.io import read_image\n",
    "\n",
    "image = read_image(get_path(INPUT_IMAGES_DIR, \"ferrari.jpg\"), TARGET_SHAPE)\n",
    "reference = read_image(get_path(INPUT_IMAGES_DIR, \"space.jpeg\"), TARGET_SHAPE)\n",
    "\n",
    "out = deepdream.dream(image, reference, learning_rate=0.05, num_iterations=50)\n",
    "display.display_two_img(image, out)"
   ]
  },
  {
   "cell_type": "markdown",
   "metadata": {},
   "source": [
    "# Classifying images 📷"
   ]
  },
  {
   "cell_type": "markdown",
   "metadata": {},
   "source": [
    "## Before DeepDream"
   ]
  },
  {
   "cell_type": "code",
   "execution_count": null,
   "metadata": {
    "execution": {
     "iopub.execute_input": "2025-05-23T14:25:53.507641Z",
     "iopub.status.busy": "2025-05-23T14:25:53.507274Z",
     "iopub.status.idle": "2025-05-23T14:25:59.557062Z",
     "shell.execute_reply": "2025-05-23T14:25:59.555922Z",
     "shell.execute_reply.started": "2025-05-23T14:25:53.507594Z"
    },
    "trusted": true
   },
   "outputs": [],
   "source": [
    "display.display_images(*display.classify_images(MODEL, sample_images, IMAGE_NET_CLASSES))"
   ]
  },
  {
   "cell_type": "markdown",
   "metadata": {
    "execution": {
     "iopub.execute_input": "2025-05-19T09:10:24.834505Z",
     "iopub.status.busy": "2025-05-19T09:10:24.834157Z",
     "iopub.status.idle": "2025-05-19T09:10:24.841075Z",
     "shell.execute_reply": "2025-05-19T09:10:24.839638Z",
     "shell.execute_reply.started": "2025-05-19T09:10:24.834480Z"
    }
   },
   "source": [
    "***I am so sorry, Master Yoda...***"
   ]
  },
  {
   "cell_type": "markdown",
   "metadata": {},
   "source": [
    "## After DeepDream"
   ]
  },
  {
   "cell_type": "code",
   "execution_count": null,
   "metadata": {},
   "outputs": [],
   "source": [
    "# prepare images files\n",
    "DEEPDREAM_IMAGES = [\n",
    "    os.path.join(OUTPUT_IMAGES_DIR, file_name)\n",
    "    for file_name in os.listdir(OUTPUT_IMAGES_DIR) \n",
    "    if os.path.isfile(os.path.join(OUTPUT_IMAGES_DIR, file_name))\n",
    "]"
   ]
  },
  {
   "cell_type": "code",
   "execution_count": null,
   "metadata": {
    "_kg_hide-input": true,
    "execution": {
     "iopub.execute_input": "2025-05-23T14:25:59.561380Z",
     "iopub.status.busy": "2025-05-23T14:25:59.561040Z",
     "iopub.status.idle": "2025-05-23T14:25:59.567510Z",
     "shell.execute_reply": "2025-05-23T14:25:59.566334Z",
     "shell.execute_reply.started": "2025-05-23T14:25:59.561357Z"
    },
    "trusted": true
   },
   "outputs": [],
   "source": [
    "# run model\n",
    "display.display_images(*display.classify_images(MODEL, DEEPDREAM_IMAGES, IMAGE_NET_CLASSES))"
   ]
  },
  {
   "cell_type": "markdown",
   "metadata": {},
   "source": [
    "### Next Steps ✨\n",
    "I'll try these tricks in the next notebook to improve results:\n",
    "\n",
    "1. **Add randomness** - Small shifts/noise make patterns more varied\n",
    "\n",
    "2. **Use image pyramid** - Process multiple resolutions for better details\n",
    "\n",
    "3. **Smooth gradients** - Reduces artifacts and keeps patterns natural\n",
    "\n",
    "### Check further 👉 [DeepDream Tricks](deepdream-tricks.ipynb)\n",
    "Even this basic DeepDream implementation can create fun and weird images!\n",
    "Check the link too see which tricks might be applied!"
   ]
  }
 ],
 "metadata": {
  "kaggle": {
   "accelerator": "gpu",
   "dataSources": [
    {
     "datasetId": 7454541,
     "sourceId": 11878366,
     "sourceType": "datasetVersion"
    }
   ],
   "isGpuEnabled": true,
   "isInternetEnabled": true,
   "language": "python",
   "sourceType": "notebook"
  },
  "kernelspec": {
   "display_name": ".venv",
   "language": "python",
   "name": "python3"
  },
  "language_info": {
   "codemirror_mode": {
    "name": "ipython",
    "version": 3
   },
   "file_extension": ".py",
   "mimetype": "text/x-python",
   "name": "python",
   "nbconvert_exporter": "python",
   "pygments_lexer": "ipython3",
   "version": "3.12.3"
  }
 },
 "nbformat": 4,
 "nbformat_minor": 4
}
