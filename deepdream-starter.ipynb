{
 "cells": [
  {
   "cell_type": "markdown",
   "id": "2da95b6f",
   "metadata": {
    "execution": {
     "iopub.execute_input": "2025-05-23T13:58:44.843918Z",
     "iopub.status.busy": "2025-05-23T13:58:44.843494Z",
     "iopub.status.idle": "2025-05-23T13:58:44.852713Z",
     "shell.execute_reply": "2025-05-23T13:58:44.851061Z",
     "shell.execute_reply.started": "2025-05-23T13:58:44.843892Z"
    },
    "papermill": {
     "duration": 0.004063,
     "end_time": "2025-06-08T08:09:59.169264",
     "exception": false,
     "start_time": "2025-06-08T08:09:59.165201",
     "status": "completed"
    },
    "tags": []
   },
   "source": [
    "# DeepDream Starter 🚀\n",
    "\n",
    "Welcome! This notebook is your hands-on introduction to DeepDream, the algorithm that turns ordinary images into wild, dream-like art using neural networks.\n",
    "\n",
    "Here’s what you’ll find inside:\n",
    "- **How DeepDream works:** See how we use a pre-trained ResNet50 to amplify patterns in your images, step by step. You could possibly use any other model you want!\n",
    "- **Single-image DeepDream:** Apply the algorithm to your own images and compare the before/after results side by side.\n",
    "- **Reference image dreaming:** Use one image to “dream” features onto another.\n",
    "- **Image classification:** Check how a neural network’s predictions change before and after DeepDreaming.\n",
    "- **Next steps:** Get ideas for making your dreams even weirder with tricks like image pyramids and gradient smoothing."
   ]
  },
  {
   "cell_type": "markdown",
   "id": "62ec8e4a",
   "metadata": {},
   "source": [
    "<a href=\"https://www.kaggle.com/code/vladislavlassa/deepdream-starter?scriptVersionId=244334574\" target=\"_blank\"><img align=\"left\" alt=\"Kaggle\" title=\"Open in Kaggle\" src=\"https://kaggle.com/static/images/open-in-kaggle.svg\">\n",
    "</a>"
   ]
  },
  {
   "cell_type": "markdown",
   "id": "b3c81671",
   "metadata": {
    "papermill": {
     "duration": 0.003073,
     "end_time": "2025-06-08T08:09:59.175698",
     "exception": false,
     "start_time": "2025-06-08T08:09:59.172625",
     "status": "completed"
    },
    "tags": []
   },
   "source": [
    "# Setting things up 🔨"
   ]
  },
  {
   "cell_type": "code",
   "execution_count": null,
   "id": "b470c742",
   "metadata": {
    "execution": {
     "iopub.execute_input": "2025-06-08T08:09:59.18352Z",
     "iopub.status.busy": "2025-06-08T08:09:59.182838Z",
     "iopub.status.idle": "2025-06-08T08:10:00.705088Z",
     "shell.execute_reply": "2025-06-08T08:10:00.704204Z"
    },
    "papermill": {
     "duration": 1.527427,
     "end_time": "2025-06-08T08:10:00.706408",
     "exception": false,
     "start_time": "2025-06-08T08:09:59.178981",
     "status": "completed"
    },
    "tags": []
   },
   "outputs": [],
   "source": [
    "# get ImageNet classes text\n",
    "!git clone https://gist.github.com/4e1342c10a71981d0b491e1b8227328b.git image_net_classes\n",
    "\n",
    "# clone the repo with code\n",
    "!git clone --single-branch --branch basic-deepdream https://github.com/Lassa30/deepdreaming\n",
    "\n",
    "# create output directory\n",
    "!mkdir output"
   ]
  },
  {
   "cell_type": "markdown",
   "id": "4b820027",
   "metadata": {
    "papermill": {
     "duration": 0.003444,
     "end_time": "2025-06-08T08:10:00.713788",
     "exception": false,
     "start_time": "2025-06-08T08:10:00.710344",
     "status": "completed"
    },
    "tags": []
   },
   "source": [
    "## Imports"
   ]
  },
  {
   "cell_type": "code",
   "execution_count": null,
   "id": "842438ca",
   "metadata": {
    "_cell_guid": "b1076dfc-b9ad-4769-8c92-a6c4dae69d19",
    "_uuid": "8f2839f25d086af736a60e9eeb907d3b93b6e0e5",
    "execution": {
     "iopub.execute_input": "2025-06-08T08:10:00.721732Z",
     "iopub.status.busy": "2025-06-08T08:10:00.721481Z",
     "iopub.status.idle": "2025-06-08T08:10:09.773971Z",
     "shell.execute_reply": "2025-06-08T08:10:09.77338Z"
    },
    "papermill": {
     "duration": 9.058061,
     "end_time": "2025-06-08T08:10:09.775261",
     "exception": false,
     "start_time": "2025-06-08T08:10:00.7172",
     "status": "completed"
    },
    "tags": []
   },
   "outputs": [],
   "source": [
    "import sys\n",
    "import os\n",
    "sys.path.append(\"/kaggle/working/deepdreaming\")\n",
    "########################################################################\n",
    "from deepdreaming import img\n",
    "from deepdreaming import display\n",
    "from deepdreaming.utils import read_image_net_classes\n",
    "from deepdreaming import deepdream as dd\n",
    "\n",
    "\n",
    "import numpy as np\n",
    "from matplotlib import pyplot as plt\n",
    "\n",
    "import torch\n",
    "from torchvision.models import resnet50, vgg16\n",
    "from torchvision.models import ResNet50_Weights, VGG16_Weights\n",
    "\n",
    "import cv2 as cv\n",
    "########################################################################\n",
    "SEED = 42\n",
    "def set_seeds(seed_value):\n",
    "    np.random.seed(seed_value)\n",
    "    torch.manual_seed(seed_value)\n",
    "    torch.cuda.manual_seed_all(seed_value)\n",
    "    torch.backends.cudnn.deterministic = True\n",
    "    torch.backends.cudnn.benchmark = False\n",
    "\n",
    "set_seeds(SEED)\n",
    "########################################################################\n",
    "%matplotlib inline\n",
    "%load_ext autoreload\n",
    "%autoreload 2"
   ]
  },
  {
   "cell_type": "markdown",
   "id": "e3eac29c",
   "metadata": {
    "papermill": {
     "duration": 0.003437,
     "end_time": "2025-06-08T08:10:09.782633",
     "exception": false,
     "start_time": "2025-06-08T08:10:09.779196",
     "status": "completed"
    },
    "tags": []
   },
   "source": [
    "## Constants"
   ]
  },
  {
   "cell_type": "code",
   "execution_count": null,
   "id": "7c22f7e9",
   "metadata": {
    "_kg_hide-input": true,
    "execution": {
     "iopub.execute_input": "2025-06-08T08:10:09.790606Z",
     "iopub.status.busy": "2025-06-08T08:10:09.790064Z",
     "iopub.status.idle": "2025-06-08T08:10:11.102099Z",
     "shell.execute_reply": "2025-06-08T08:10:11.101498Z"
    },
    "papermill": {
     "duration": 1.317388,
     "end_time": "2025-06-08T08:10:11.103411",
     "exception": false,
     "start_time": "2025-06-08T08:10:09.786023",
     "status": "completed"
    },
    "tags": []
   },
   "outputs": [],
   "source": [
    "TARGET_SHAPE = (224, 224, 3)\n",
    "\n",
    "IMAGE_NET_CLASSES_PATH = \"input/image_net_classes/imagenet_classes.txt\"\n",
    "INPUT_IMAGES_DIR = \"input/deepdream-sample-images\"\n",
    "OUTPUT_IMAGES_DIR = \"output\"\n",
    "\n",
    "assert os.path.exists(IMAGE_NET_CLASSES_PATH), \"Please provide a valid `IMAGE_NET_CLASSES_PATH`\"\n",
    "assert os.path.exists(INPUT_IMAGES_DIR), \"Please provide a valid `INPUT_IMAGES_DIR`\"\n",
    "assert os.path.exists(OUTPUT_IMAGES_DIR), \"Please provide a valid `DEEPDREAM_OUTPUT_PATH`\"\n",
    "\n",
    "\n",
    "device = \"cuda\" if torch.cuda.is_available() else \"cpu\"\n",
    "MODEL = vgg16(weights=VGG16_Weights.IMAGENET1K_V1).to(device).eval()\n",
    "MODEL.requires_grad_(False);\n",
    "IMAGE_NET_CLASSES = read_image_net_classes(IMAGE_NET_CLASSES_PATH)"
   ]
  },
  {
   "cell_type": "markdown",
   "id": "e209fa5f",
   "metadata": {
    "papermill": {
     "duration": 0.003874,
     "end_time": "2025-06-08T08:10:11.111574",
     "exception": false,
     "start_time": "2025-06-08T08:10:11.1077",
     "status": "completed"
    },
    "tags": []
   },
   "source": [
    "# DeepDream 🎨"
   ]
  },
  {
   "cell_type": "markdown",
   "id": "0b04b83f",
   "metadata": {
    "papermill": {
     "duration": 0.003567,
     "end_time": "2025-06-08T08:10:11.118864",
     "exception": false,
     "start_time": "2025-06-08T08:10:11.115297",
     "status": "completed"
    },
    "tags": []
   },
   "source": [
    "## Single image\n",
    "**Applying DeepDream algorithm to each image and comparing it to itself before DeepDream**"
   ]
  },
  {
   "cell_type": "code",
   "execution_count": null,
   "id": "daa49955",
   "metadata": {},
   "outputs": [],
   "source": [
    "print(MODEL)"
   ]
  },
  {
   "cell_type": "code",
   "execution_count": null,
   "id": "b48234ea",
   "metadata": {
    "execution": {
     "iopub.execute_input": "2025-06-08T08:10:11.127191Z",
     "iopub.status.busy": "2025-06-08T08:10:11.126956Z",
     "iopub.status.idle": "2025-06-08T08:10:22.852275Z",
     "shell.execute_reply": "2025-06-08T08:10:22.851395Z"
    },
    "papermill": {
     "duration": 11.731059,
     "end_time": "2025-06-08T08:10:22.85367",
     "exception": false,
     "start_time": "2025-06-08T08:10:11.122611",
     "status": "completed"
    },
    "tags": []
   },
   "outputs": [
    {
     "ename": "KeyboardInterrupt",
     "evalue": "",
     "output_type": "error",
     "traceback": [
      "\u001b[31m---------------------------------------------------------------------------\u001b[39m",
      "\u001b[31mKeyboardInterrupt\u001b[39m                         Traceback (most recent call last)",
      "\u001b[36mCell\u001b[39m\u001b[36m \u001b[39m\u001b[32mIn[30]\u001b[39m\u001b[32m, line 8\u001b[39m\n\u001b[32m      5\u001b[39m \u001b[38;5;28;01mfor\u001b[39;00m sample_image \u001b[38;5;129;01min\u001b[39;00m sample_images[\u001b[32m4\u001b[39m:\u001b[32m5\u001b[39m]:\n\u001b[32m      6\u001b[39m     \u001b[38;5;66;03m# read 'n' dream\u001b[39;00m\n\u001b[32m      7\u001b[39m     image : np.ndarray = img.io.read_image(sample_image)\n\u001b[32m----> \u001b[39m\u001b[32m8\u001b[39m     out = \u001b[43mdeepdream\u001b[49m\u001b[43m.\u001b[49m\u001b[43mdream\u001b[49m\u001b[43m(\u001b[49m\u001b[43mimage\u001b[49m\u001b[43m,\u001b[49m\u001b[43m \u001b[49m\u001b[43mimage_pyramid_ratio\u001b[49m\u001b[43m=\u001b[49m\u001b[32;43m10\u001b[39;49m\u001b[43m/\u001b[49m\u001b[32;43m14\u001b[39;49m\u001b[43m,\u001b[49m\u001b[43m \u001b[49m\u001b[43mimage_pyramid_layers\u001b[49m\u001b[43m=\u001b[49m\u001b[32;43m4\u001b[39;49m\u001b[43m,\u001b[49m\u001b[43m \u001b[49m\u001b[43mshift_size\u001b[49m\u001b[43m=\u001b[49m\u001b[32;43m32\u001b[39;49m\u001b[43m,\u001b[49m\u001b[43m \u001b[49m\u001b[43mnum_iterations\u001b[49m\u001b[43m=\u001b[49m\u001b[32;43m10\u001b[39;49m\u001b[43m,\u001b[49m\u001b[43m \u001b[49m\u001b[43mlearning_rate\u001b[49m\u001b[43m=\u001b[49m\u001b[32;43m0.09\u001b[39;49m\u001b[43m)\u001b[49m\n\u001b[32m     10\u001b[39m     \u001b[38;5;66;03m#compare 'n' show\u001b[39;00m\n\u001b[32m     11\u001b[39m     display.display_two_img(image, out, figsize=(\u001b[32m5\u001b[39m, \u001b[32m5\u001b[39m))\n",
      "\u001b[36mFile \u001b[39m\u001b[32m~/source/deepdreaming/deepdreaming/deepdream.py:108\u001b[39m, in \u001b[36mDeepDream.dream\u001b[39m\u001b[34m(self, input_image, reference_image, optimizer_class, learning_rate, num_iterations, image_pyramid_layers, image_pyramid_ratio, shift_size)\u001b[39m\n\u001b[32m    104\u001b[39m     reference_tensor = random_shift.shift(reference_tensor)\n\u001b[32m    106\u001b[39m     ref_activations = \u001b[38;5;28mself\u001b[39m.get_reference_image_activations(reference_tensor)\n\u001b[32m--> \u001b[39m\u001b[32m108\u001b[39m \u001b[38;5;28;43mself\u001b[39;49m\u001b[43m.\u001b[49m\u001b[43mgradient_ascend\u001b[49m\u001b[43m(\u001b[49m\u001b[43moptimizer_class\u001b[49m\u001b[43m,\u001b[49m\u001b[43m \u001b[49m\u001b[43minput_tensor\u001b[49m\u001b[43m,\u001b[49m\u001b[43m \u001b[49m\u001b[43mref_activations\u001b[49m\u001b[43m,\u001b[49m\u001b[43m \u001b[49m\u001b[43mlearning_rate\u001b[49m\u001b[43m,\u001b[49m\u001b[43m \u001b[49m\u001b[43mnum_iterations\u001b[49m\u001b[43m)\u001b[49m\n\u001b[32m    110\u001b[39m input_tensor = random_shift.shift_back(input_tensor)\n\u001b[32m    111\u001b[39m \u001b[38;5;28;01mif\u001b[39;00m reference_tensor \u001b[38;5;129;01mis\u001b[39;00m \u001b[38;5;129;01mnot\u001b[39;00m \u001b[38;5;28;01mNone\u001b[39;00m:\n",
      "\u001b[36mFile \u001b[39m\u001b[32m<string>:15\u001b[39m, in \u001b[36mgradient_ascend\u001b[39m\u001b[34m(self, optimizer_class, input_tensor, ref_activations, learning_rate, num_iterations)\u001b[39m\n",
      "\u001b[36mFile \u001b[39m\u001b[32m~/source/deepdreaming/.venv/lib/python3.12/site-packages/torch/_tensor.py:648\u001b[39m, in \u001b[36mTensor.backward\u001b[39m\u001b[34m(self, gradient, retain_graph, create_graph, inputs)\u001b[39m\n\u001b[32m    638\u001b[39m \u001b[38;5;28;01mif\u001b[39;00m has_torch_function_unary(\u001b[38;5;28mself\u001b[39m):\n\u001b[32m    639\u001b[39m     \u001b[38;5;28;01mreturn\u001b[39;00m handle_torch_function(\n\u001b[32m    640\u001b[39m         Tensor.backward,\n\u001b[32m    641\u001b[39m         (\u001b[38;5;28mself\u001b[39m,),\n\u001b[32m   (...)\u001b[39m\u001b[32m    646\u001b[39m         inputs=inputs,\n\u001b[32m    647\u001b[39m     )\n\u001b[32m--> \u001b[39m\u001b[32m648\u001b[39m \u001b[43mtorch\u001b[49m\u001b[43m.\u001b[49m\u001b[43mautograd\u001b[49m\u001b[43m.\u001b[49m\u001b[43mbackward\u001b[49m\u001b[43m(\u001b[49m\n\u001b[32m    649\u001b[39m \u001b[43m    \u001b[49m\u001b[38;5;28;43mself\u001b[39;49m\u001b[43m,\u001b[49m\u001b[43m \u001b[49m\u001b[43mgradient\u001b[49m\u001b[43m,\u001b[49m\u001b[43m \u001b[49m\u001b[43mretain_graph\u001b[49m\u001b[43m,\u001b[49m\u001b[43m \u001b[49m\u001b[43mcreate_graph\u001b[49m\u001b[43m,\u001b[49m\u001b[43m \u001b[49m\u001b[43minputs\u001b[49m\u001b[43m=\u001b[49m\u001b[43minputs\u001b[49m\n\u001b[32m    650\u001b[39m \u001b[43m\u001b[49m\u001b[43m)\u001b[49m\n",
      "\u001b[36mFile \u001b[39m\u001b[32m~/source/deepdreaming/.venv/lib/python3.12/site-packages/torch/autograd/__init__.py:353\u001b[39m, in \u001b[36mbackward\u001b[39m\u001b[34m(tensors, grad_tensors, retain_graph, create_graph, grad_variables, inputs)\u001b[39m\n\u001b[32m    348\u001b[39m     retain_graph = create_graph\n\u001b[32m    350\u001b[39m \u001b[38;5;66;03m# The reason we repeat the same comment below is that\u001b[39;00m\n\u001b[32m    351\u001b[39m \u001b[38;5;66;03m# some Python versions print out the first line of a multi-line function\u001b[39;00m\n\u001b[32m    352\u001b[39m \u001b[38;5;66;03m# calls in the traceback and some print out the last line\u001b[39;00m\n\u001b[32m--> \u001b[39m\u001b[32m353\u001b[39m \u001b[43m_engine_run_backward\u001b[49m\u001b[43m(\u001b[49m\n\u001b[32m    354\u001b[39m \u001b[43m    \u001b[49m\u001b[43mtensors\u001b[49m\u001b[43m,\u001b[49m\n\u001b[32m    355\u001b[39m \u001b[43m    \u001b[49m\u001b[43mgrad_tensors_\u001b[49m\u001b[43m,\u001b[49m\n\u001b[32m    356\u001b[39m \u001b[43m    \u001b[49m\u001b[43mretain_graph\u001b[49m\u001b[43m,\u001b[49m\n\u001b[32m    357\u001b[39m \u001b[43m    \u001b[49m\u001b[43mcreate_graph\u001b[49m\u001b[43m,\u001b[49m\n\u001b[32m    358\u001b[39m \u001b[43m    \u001b[49m\u001b[43minputs\u001b[49m\u001b[43m,\u001b[49m\n\u001b[32m    359\u001b[39m \u001b[43m    \u001b[49m\u001b[43mallow_unreachable\u001b[49m\u001b[43m=\u001b[49m\u001b[38;5;28;43;01mTrue\u001b[39;49;00m\u001b[43m,\u001b[49m\n\u001b[32m    360\u001b[39m \u001b[43m    \u001b[49m\u001b[43maccumulate_grad\u001b[49m\u001b[43m=\u001b[49m\u001b[38;5;28;43;01mTrue\u001b[39;49;00m\u001b[43m,\u001b[49m\n\u001b[32m    361\u001b[39m \u001b[43m\u001b[49m\u001b[43m)\u001b[49m\n",
      "\u001b[36mFile \u001b[39m\u001b[32m~/source/deepdreaming/.venv/lib/python3.12/site-packages/torch/autograd/graph.py:824\u001b[39m, in \u001b[36m_engine_run_backward\u001b[39m\u001b[34m(t_outputs, *args, **kwargs)\u001b[39m\n\u001b[32m    822\u001b[39m     unregister_hooks = _register_logging_hooks_on_whole_graph(t_outputs)\n\u001b[32m    823\u001b[39m \u001b[38;5;28;01mtry\u001b[39;00m:\n\u001b[32m--> \u001b[39m\u001b[32m824\u001b[39m     \u001b[38;5;28;01mreturn\u001b[39;00m \u001b[43mVariable\u001b[49m\u001b[43m.\u001b[49m\u001b[43m_execution_engine\u001b[49m\u001b[43m.\u001b[49m\u001b[43mrun_backward\u001b[49m\u001b[43m(\u001b[49m\u001b[43m  \u001b[49m\u001b[38;5;66;43;03m# Calls into the C++ engine to run the backward pass\u001b[39;49;00m\n\u001b[32m    825\u001b[39m \u001b[43m        \u001b[49m\u001b[43mt_outputs\u001b[49m\u001b[43m,\u001b[49m\u001b[43m \u001b[49m\u001b[43m*\u001b[49m\u001b[43margs\u001b[49m\u001b[43m,\u001b[49m\u001b[43m \u001b[49m\u001b[43m*\u001b[49m\u001b[43m*\u001b[49m\u001b[43mkwargs\u001b[49m\n\u001b[32m    826\u001b[39m \u001b[43m    \u001b[49m\u001b[43m)\u001b[49m  \u001b[38;5;66;03m# Calls into the C++ engine to run the backward pass\u001b[39;00m\n\u001b[32m    827\u001b[39m \u001b[38;5;28;01mfinally\u001b[39;00m:\n\u001b[32m    828\u001b[39m     \u001b[38;5;28;01mif\u001b[39;00m attach_logging_hooks:\n",
      "\u001b[31mKeyboardInterrupt\u001b[39m: "
     ]
    }
   ],
   "source": [
    "# deepdream = dd.DeepDream(MODEL, [\"layer2[3].relu\", \"layer3[5].conv1\"])\n",
    "deepdream = dd.DeepDream(MODEL, [\"features[20]\", \"features[25]\"])\n",
    "sample_images = [os.path.join(INPUT_IMAGES_DIR, file_name) for file_name in os.listdir(INPUT_IMAGES_DIR)]\n",
    "\n",
    "for sample_image in sample_images:\n",
    "    # read 'n' dream\n",
    "    image : np.ndarray = img.io.read_image(sample_image)\n",
    "    out = deepdream.dream(image, image_pyramid_ratio=10/14, image_pyramid_layers=4, shift_size=32, num_iterations=10, learning_rate=0.09)\n",
    "\n",
    "    #compare 'n' show\n",
    "    display.display_two_img(image, out, figsize=(5, 5))\n",
    "    plt.show()\n",
    "    \n",
    "    # transform for OpenCV\n",
    "    out = img.proc.to_cv(out)\n",
    "    # save\n",
    "    file = f\"{sample_image.split('/')[-1]}\"\n",
    "    fullpath = os.path.join(OUTPUT_IMAGES_DIR, file)\n",
    "    success = cv.imwrite(fullpath, out)\n",
    "    \n",
    "    assert success, f\"Image {fullpath} is not saved successfully...\""
   ]
  },
  {
   "cell_type": "markdown",
   "id": "e25dbe94",
   "metadata": {
    "papermill": {
     "duration": 0.052526,
     "end_time": "2025-06-08T08:10:22.961616",
     "exception": false,
     "start_time": "2025-06-08T08:10:22.90909",
     "status": "completed"
    },
    "tags": []
   },
   "source": [
    "## Using reference image\n",
    "**Dreaming with the reference image provided**"
   ]
  },
  {
   "cell_type": "code",
   "execution_count": null,
   "id": "bb064b66",
   "metadata": {
    "execution": {
     "iopub.execute_input": "2025-06-08T08:10:23.069423Z",
     "iopub.status.busy": "2025-06-08T08:10:23.068706Z",
     "iopub.status.idle": "2025-06-08T08:10:23.096568Z",
     "shell.execute_reply": "2025-06-08T08:10:23.096001Z"
    },
    "papermill": {
     "duration": 0.08332,
     "end_time": "2025-06-08T08:10:23.097649",
     "exception": false,
     "start_time": "2025-06-08T08:10:23.014329",
     "status": "completed"
    },
    "tags": []
   },
   "outputs": [],
   "source": [
    "get_path = lambda prefix, name: os.path.join(prefix, name)\n",
    "\n",
    "# some experimental layer with cool results - feel free to change!\n",
    "deepdream = dd.DeepDream(MODEL, [\"features[15]\"])"
   ]
  },
  {
   "cell_type": "markdown",
   "id": "2e54e482",
   "metadata": {
    "papermill": {
     "duration": 0.052633,
     "end_time": "2025-06-08T08:10:23.203413",
     "exception": false,
     "start_time": "2025-06-08T08:10:23.15078",
     "status": "completed"
    },
    "tags": []
   },
   "source": [
    "### Dart Vader + Yoda"
   ]
  },
  {
   "cell_type": "code",
   "execution_count": null,
   "id": "753ddfa9",
   "metadata": {
    "execution": {
     "iopub.execute_input": "2025-06-08T08:10:23.311937Z",
     "iopub.status.busy": "2025-06-08T08:10:23.311679Z",
     "iopub.status.idle": "2025-06-08T08:10:27.189288Z",
     "shell.execute_reply": "2025-06-08T08:10:27.188491Z"
    },
    "papermill": {
     "duration": 3.93449,
     "end_time": "2025-06-08T08:10:27.191921",
     "exception": false,
     "start_time": "2025-06-08T08:10:23.257431",
     "status": "completed"
    },
    "tags": []
   },
   "outputs": [],
   "source": [
    "image = img.io.read_image(get_path(INPUT_IMAGES_DIR, \"yoda.jpeg\"), TARGET_SHAPE)\n",
    "reference = img.io.read_image(get_path(INPUT_IMAGES_DIR, \"dart_vader.jpeg\"), TARGET_SHAPE)\n",
    "\n",
    "out = deepdream.dream(image, reference, learning_rate=0.05, num_iterations=50)\n",
    "display.display_two_img(image, out)"
   ]
  },
  {
   "cell_type": "markdown",
   "id": "eafedbef",
   "metadata": {
    "papermill": {
     "duration": 0.057634,
     "end_time": "2025-06-08T08:10:27.308776",
     "exception": false,
     "start_time": "2025-06-08T08:10:27.251142",
     "status": "completed"
    },
    "tags": []
   },
   "source": [
    "### Bombordiro Crocodilo + Tung Tung Tung Sahur"
   ]
  },
  {
   "cell_type": "code",
   "execution_count": null,
   "id": "c10692c6",
   "metadata": {
    "execution": {
     "iopub.execute_input": "2025-06-08T08:10:27.425226Z",
     "iopub.status.busy": "2025-06-08T08:10:27.424734Z",
     "iopub.status.idle": "2025-06-08T08:10:34.881293Z",
     "shell.execute_reply": "2025-06-08T08:10:34.880654Z"
    },
    "papermill": {
     "duration": 7.51734,
     "end_time": "2025-06-08T08:10:34.884751",
     "exception": false,
     "start_time": "2025-06-08T08:10:27.367411",
     "status": "completed"
    },
    "tags": []
   },
   "outputs": [],
   "source": [
    "from deepdreaming.img.io import read_image\n",
    "\n",
    "image = read_image(get_path(INPUT_IMAGES_DIR, \"bombordiro_crocodilo.jpeg\"), TARGET_SHAPE)\n",
    "reference = read_image(get_path(INPUT_IMAGES_DIR, \"messi.jpg\"), TARGET_SHAPE)\n",
    "\n",
    "out = deepdream.dream(image, reference, learning_rate=0.05, num_iterations=50)\n",
    "display.display_two_img(image, out)"
   ]
  },
  {
   "cell_type": "markdown",
   "id": "d647d502",
   "metadata": {
    "papermill": {
     "duration": 0.059613,
     "end_time": "2025-06-08T08:10:35.007283",
     "exception": false,
     "start_time": "2025-06-08T08:10:34.94767",
     "status": "completed"
    },
    "tags": []
   },
   "source": [
    "### Space + Ferrari"
   ]
  },
  {
   "cell_type": "code",
   "execution_count": null,
   "id": "7e1a1022",
   "metadata": {
    "execution": {
     "iopub.execute_input": "2025-06-08T08:10:35.139286Z",
     "iopub.status.busy": "2025-06-08T08:10:35.138996Z",
     "iopub.status.idle": "2025-06-08T08:10:38.980712Z",
     "shell.execute_reply": "2025-06-08T08:10:38.979908Z"
    },
    "papermill": {
     "duration": 3.916277,
     "end_time": "2025-06-08T08:10:38.983881",
     "exception": false,
     "start_time": "2025-06-08T08:10:35.067604",
     "status": "completed"
    },
    "tags": []
   },
   "outputs": [],
   "source": [
    "from deepdreaming.img.io import read_image\n",
    "\n",
    "image = read_image(get_path(INPUT_IMAGES_DIR, \"ferrari.jpg\"), TARGET_SHAPE)\n",
    "reference = read_image(get_path(INPUT_IMAGES_DIR, \"space.jpeg\"), TARGET_SHAPE)\n",
    "\n",
    "out = deepdream.dream(image, reference, learning_rate=0.05, num_iterations=50)\n",
    "display.display_two_img(image, out)"
   ]
  },
  {
   "cell_type": "markdown",
   "id": "b19d4227",
   "metadata": {
    "papermill": {
     "duration": 0.061865,
     "end_time": "2025-06-08T08:10:39.112731",
     "exception": false,
     "start_time": "2025-06-08T08:10:39.050866",
     "status": "completed"
    },
    "tags": []
   },
   "source": [
    "# Classifying images 📷"
   ]
  },
  {
   "cell_type": "markdown",
   "id": "a8a810f0",
   "metadata": {
    "papermill": {
     "duration": 0.065534,
     "end_time": "2025-06-08T08:10:39.241034",
     "exception": false,
     "start_time": "2025-06-08T08:10:39.1755",
     "status": "completed"
    },
    "tags": []
   },
   "source": [
    "## Before DeepDream"
   ]
  },
  {
   "cell_type": "code",
   "execution_count": null,
   "id": "3fe5706c",
   "metadata": {
    "execution": {
     "iopub.execute_input": "2025-06-08T08:10:39.372059Z",
     "iopub.status.busy": "2025-06-08T08:10:39.371768Z",
     "iopub.status.idle": "2025-06-08T08:10:41.631196Z",
     "shell.execute_reply": "2025-06-08T08:10:41.630305Z"
    },
    "papermill": {
     "duration": 2.358445,
     "end_time": "2025-06-08T08:10:41.665031",
     "exception": false,
     "start_time": "2025-06-08T08:10:39.306586",
     "status": "completed"
    },
    "tags": []
   },
   "outputs": [],
   "source": [
    "display.display_images(*display.classify_images(MODEL, sample_images, IMAGE_NET_CLASSES))"
   ]
  },
  {
   "cell_type": "markdown",
   "id": "3f769a6d",
   "metadata": {
    "execution": {
     "iopub.execute_input": "2025-05-19T09:10:24.834505Z",
     "iopub.status.busy": "2025-05-19T09:10:24.834157Z",
     "iopub.status.idle": "2025-05-19T09:10:24.841075Z",
     "shell.execute_reply": "2025-05-19T09:10:24.839638Z",
     "shell.execute_reply.started": "2025-05-19T09:10:24.83448Z"
    },
    "papermill": {
     "duration": 0.10153,
     "end_time": "2025-06-08T08:10:41.868864",
     "exception": false,
     "start_time": "2025-06-08T08:10:41.767334",
     "status": "completed"
    },
    "tags": []
   },
   "source": [
    "***I am so sorry, Master Yoda...***"
   ]
  },
  {
   "cell_type": "markdown",
   "id": "f9c635f0",
   "metadata": {
    "papermill": {
     "duration": 0.101479,
     "end_time": "2025-06-08T08:10:42.074146",
     "exception": false,
     "start_time": "2025-06-08T08:10:41.972667",
     "status": "completed"
    },
    "tags": []
   },
   "source": [
    "## After DeepDream"
   ]
  },
  {
   "cell_type": "code",
   "execution_count": null,
   "id": "20723516",
   "metadata": {
    "execution": {
     "iopub.execute_input": "2025-06-08T08:10:42.281371Z",
     "iopub.status.busy": "2025-06-08T08:10:42.28109Z",
     "iopub.status.idle": "2025-06-08T08:10:42.30902Z",
     "shell.execute_reply": "2025-06-08T08:10:42.308293Z"
    },
    "papermill": {
     "duration": 0.133898,
     "end_time": "2025-06-08T08:10:42.310286",
     "exception": false,
     "start_time": "2025-06-08T08:10:42.176388",
     "status": "completed"
    },
    "tags": []
   },
   "outputs": [],
   "source": [
    "# prepare images files\n",
    "DEEPDREAM_IMAGES = [\n",
    "    os.path.join(OUTPUT_IMAGES_DIR, file_name)\n",
    "    for file_name in os.listdir(OUTPUT_IMAGES_DIR) \n",
    "    if os.path.isfile(os.path.join(OUTPUT_IMAGES_DIR, file_name))\n",
    "]"
   ]
  },
  {
   "cell_type": "code",
   "execution_count": null,
   "id": "76967fdc",
   "metadata": {
    "_kg_hide-input": true,
    "execution": {
     "iopub.execute_input": "2025-06-08T08:10:42.521209Z",
     "iopub.status.busy": "2025-06-08T08:10:42.520379Z",
     "iopub.status.idle": "2025-06-08T08:10:44.502179Z",
     "shell.execute_reply": "2025-06-08T08:10:44.501237Z"
    },
    "papermill": {
     "duration": 2.134614,
     "end_time": "2025-06-08T08:10:44.549773",
     "exception": false,
     "start_time": "2025-06-08T08:10:42.415159",
     "status": "completed"
    },
    "tags": []
   },
   "outputs": [],
   "source": [
    "# run model\n",
    "display.display_images(*display.classify_images(MODEL, DEEPDREAM_IMAGES, IMAGE_NET_CLASSES))"
   ]
  },
  {
   "cell_type": "markdown",
   "id": "2adddc7e",
   "metadata": {
    "papermill": {
     "duration": 0.163073,
     "end_time": "2025-06-08T08:10:44.872653",
     "exception": false,
     "start_time": "2025-06-08T08:10:44.70958",
     "status": "completed"
    },
    "tags": []
   },
   "source": [
    "### Next Steps ✨\n",
    "I'll try these tricks in the next notebook to improve results:\n",
    "\n",
    "1. **Add randomness** - Small shifts/noise make patterns more varied\n",
    "\n",
    "2. **Use image pyramid** - Process multiple resolutions for better details\n",
    "\n",
    "3. **Smooth gradients** - Reduces artifacts and keeps patterns natural\n",
    "\n",
    "### Check further 👉 [DeepDream Tricks](https://www.kaggle.com/code/vladislavlassa/deepdream-tricks)\n",
    "Even this basic DeepDream implementation can create fun and weird images!\n",
    "Check the link too see which tricks might be applied!"
   ]
  }
 ],
 "metadata": {
  "kaggle": {
   "accelerator": "none",
   "dataSources": [
    {
     "datasetId": 7454541,
     "sourceId": 11878366,
     "sourceType": "datasetVersion"
    }
   ],
   "isGpuEnabled": false,
   "isInternetEnabled": true,
   "language": "python",
   "sourceType": "notebook"
  },
  "kernelspec": {
   "display_name": ".venv",
   "language": "python",
   "name": "python3"
  },
  "language_info": {
   "codemirror_mode": {
    "name": "ipython",
    "version": 3
   },
   "file_extension": ".py",
   "mimetype": "text/x-python",
   "name": "python",
   "nbconvert_exporter": "python",
   "pygments_lexer": "ipython3",
   "version": "3.12.3"
  },
  "papermill": {
   "default_parameters": {},
   "duration": 52.294081,
   "end_time": "2025-06-08T08:10:47.394271",
   "environment_variables": {},
   "exception": null,
   "input_path": "__notebook__.ipynb",
   "output_path": "__notebook__.ipynb",
   "parameters": {},
   "start_time": "2025-06-08T08:09:55.10019",
   "version": "2.6.0"
  }
 },
 "nbformat": 4,
 "nbformat_minor": 5
}
