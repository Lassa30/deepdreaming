{
 "cells": [
  {
   "cell_type": "code",
   "execution_count": null,
   "id": "80fb5ed6",
   "metadata": {},
   "outputs": [],
   "source": [
    "import sys\n",
    "import os\n",
    "########################################################################\n",
    "from deepdreaming import img, display, deepdream as dd\n",
    "from deepdreaming.utils import read_image_net_classes\n",
    "from deepdreaming.config import DreamConfig\n",
    "\n",
    "import numpy as np\n",
    "from matplotlib import pyplot as plt\n",
    "\n",
    "import torch\n",
    "from torchvision.models import vgg16, VGG16_Weights\n",
    "\n",
    "import cv2 as cv\n",
    "########################################################################\n",
    "SEED = 42\n",
    "def set_seeds(seed_value):\n",
    "    np.random.seed(seed_value)\n",
    "    torch.manual_seed(seed_value)\n",
    "    torch.cuda.manual_seed_all(seed_value)\n",
    "    torch.backends.cudnn.deterministic = True\n",
    "    torch.backends.cudnn.benchmark = False\n",
    "\n",
    "set_seeds(SEED)\n",
    "########################################################################\n",
    "%matplotlib inline\n",
    "%load_ext autoreload\n",
    "%autoreload 2"
   ]
  },
  {
   "cell_type": "code",
   "execution_count": null,
   "id": "2d5c9a25",
   "metadata": {},
   "outputs": [],
   "source": [
    "TARGET_SHAPE = (224, 224, 3)\n",
    "\n",
    "\n",
    "IMAGE_NET_CLASSES_PATH = \"input/image_net_classes/imagenet_classes.txt\"\n",
    "INPUT_IMAGES_DIR = \"input/deepdream-sample-images\"\n",
    "OUTPUT_IMAGES_DIR = \"output\"\n",
    "\n",
    "# assert os.path.exists(IMAGE_NET_CLASSES_PATH), \"Please provide a valid `IMAGE_NET_CLASSES_PATH`\"\n",
    "# assert os.path.exists(INPUT_IMAGES_DIR), \"Please provide a valid `INPUT_IMAGES_DIR`\"\n",
    "# assert os.path.exists(OUTPUT_IMAGES_DIR), \"Please provide a valid `DEEPDREAM_OUTPUT_PATH`\"\n",
    "\n",
    "\n",
    "device = \"cuda\" if torch.cuda.is_available() else \"cpu\"\n",
    "MODEL = vgg16(weights=VGG16_Weights.IMAGENET1K_V1).to(device).eval()\n",
    "MODEL.requires_grad_(False);\n",
    "IMAGE_NET_CLASSES = read_image_net_classes(IMAGE_NET_CLASSES_PATH)\n",
    "print(MODEL)"
   ]
  },
  {
   "cell_type": "code",
   "execution_count": null,
   "id": "f797de8f",
   "metadata": {},
   "outputs": [],
   "source": [
    "# deepdream = dd.DeepDream(MODEL, [\"layer2[3].relu\", \"layer3[5].conv1\"])\n",
    "deepdream = dd.DeepDream(MODEL, [\"features[13]\", \"features[22]\", \"features[25]\", \"features[27]\"])\n",
    "sample_images = [os.path.join(INPUT_IMAGES_DIR, file_name) for file_name in os.listdir(INPUT_IMAGES_DIR)]\n",
    "sample_config = DreamConfig(\n",
    "    pyramid_layers=3,\n",
    "    pyramid_ratio=0.42,\n",
    "    shift_size=32,\n",
    "    num_iter=10,\n",
    "    learning_rate=0.08\n",
    ")\n",
    "\n",
    "# nice configs:\n",
    "# num_iter = 10\n",
    "#   -> layers=9, ratio=4/5\n",
    "#   -> layers=3, ratio=0.42\n",
    "\n",
    "sample_images[0] = os.path.join(INPUT_IMAGES_DIR, \"guys.jpg\")\n",
    "for sample_image in sample_images[::3]:\n",
    "    # read 'n' dream\n",
    "    image: np.ndarray = img.io.read_image(sample_image, TARGET_SHAPE)\n",
    "    out = deepdream.dream(image, config=sample_config)\n",
    "\n",
    "    # compare 'n' show\n",
    "    display.display_two_img(image, out, figsize=(8, 8))\n",
    "    plt.show()\n",
    "\n",
    "    # transform for OpenCV\n",
    "    out = img.proc.to_cv(out)\n",
    "\n",
    "    # save\n",
    "    file = f\"{sample_image.split('/')[-1]}\"\n",
    "    fullpath = os.path.join(OUTPUT_IMAGES_DIR, file)\n",
    "    success = cv.imwrite(fullpath, out)\n",
    "    assert success, f\"Image {fullpath} is not saved successfully...\"\n",
    "    break"
   ]
  },
  {
   "cell_type": "markdown",
   "id": "0f2b5eb5",
   "metadata": {},
   "source": [
    "## Using reference image\n",
    "**Dreaming with the reference image provided**"
   ]
  },
  {
   "cell_type": "code",
   "execution_count": null,
   "id": "10f46b1f",
   "metadata": {},
   "outputs": [],
   "source": [
    "get_path = lambda prefix, name: os.path.join(prefix, name)\n",
    "\n",
    "# some experimental layer with cool results - feel free to change!\n",
    "deepdream = dd.DeepDream(MODEL, [\"features[22]\"])\n",
    "\n",
    "# config for guided deepdream\n",
    "guided_dream_config = DreamConfig(gradient_norm=True, pyramid_layers=4, num_iter=10)"
   ]
  },
  {
   "cell_type": "markdown",
   "id": "aeaf139e",
   "metadata": {},
   "source": [
    "### Dart Vader + Yoda"
   ]
  },
  {
   "cell_type": "code",
   "execution_count": null,
   "id": "59cec9a7",
   "metadata": {},
   "outputs": [],
   "source": [
    "image = img.io.read_image(get_path(INPUT_IMAGES_DIR, \"yoda.jpeg\"), TARGET_SHAPE)\n",
    "reference = img.io.read_image(get_path(INPUT_IMAGES_DIR, \"space.jpeg\"), TARGET_SHAPE)\n",
    "\n",
    "out = deepdream.dream(image, reference, config=guided_dream_config)\n",
    "display.display_two_img(image, out, figsize=(8,8))"
   ]
  }
 ],
 "metadata": {
  "kernelspec": {
   "display_name": ".venv",
   "language": "python",
   "name": "python3"
  },
  "language_info": {
   "codemirror_mode": {
    "name": "ipython",
    "version": 3
   },
   "file_extension": ".py",
   "mimetype": "text/x-python",
   "name": "python",
   "nbconvert_exporter": "python",
   "pygments_lexer": "ipython3",
   "version": "3.12.3"
  }
 },
 "nbformat": 4,
 "nbformat_minor": 5
}
