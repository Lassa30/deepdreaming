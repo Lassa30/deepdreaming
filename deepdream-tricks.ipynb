{
 "cells": [
  {
   "cell_type": "code",
   "execution_count": null,
   "id": "80fb5ed6",
   "metadata": {},
   "outputs": [],
   "source": [
    "import sys\n",
    "import os\n",
    "sys.path.append(\"/kaggle/working/deepdreaming\")\n",
    "########################################################################\n",
    "from deepdreaming import img\n",
    "from deepdreaming import display\n",
    "from deepdreaming.utils import read_image_net_classes\n",
    "from deepdreaming import deepdream as dd\n",
    "\n",
    "\n",
    "import numpy as np\n",
    "from matplotlib import pyplot as plt\n",
    "\n",
    "import torch\n",
    "from torchvision.models import vgg16_bn\n",
    "from torchvision.models import VGG16_BN_Weights\n",
    "\n",
    "import cv2 as cv\n",
    "########################################################################\n",
    "SEED = 42\n",
    "def set_seeds(seed_value):\n",
    "    np.random.seed(seed_value)\n",
    "    torch.manual_seed(seed_value)\n",
    "    torch.cuda.manual_seed_all(seed_value)\n",
    "    torch.backends.cudnn.deterministic = True\n",
    "    torch.backends.cudnn.benchmark = False\n",
    "\n",
    "set_seeds(SEED)\n",
    "########################################################################\n",
    "%matplotlib inline\n",
    "%load_ext autoreload\n",
    "%autoreload 2"
   ]
  },
  {
   "cell_type": "code",
   "execution_count": null,
   "id": "2d5c9a25",
   "metadata": {},
   "outputs": [],
   "source": [
    "TARGET_SHAPE = (224, 224, 3)\n",
    "\n",
    "IMAGE_NET_CLASSES_PATH = \"/kaggle/working/image_net_classes/imagenet_classes.txt\"\n",
    "INPUT_IMAGES_DIR = \"/kaggle/input/deepdream-sample-images\"\n",
    "OUTPUT_IMAGES_DIR = \"/kaggle/working/output\"\n",
    "\n",
    "assert os.path.exists(IMAGE_NET_CLASSES_PATH), \"Please provide a valid `IMAGE_NET_CLASSES_PATH`\"\n",
    "assert os.path.exists(INPUT_IMAGES_DIR), \"Please provide a valid `INPUT_IMAGES_DIR`\"\n",
    "assert os.path.exists(OUTPUT_IMAGES_DIR), \"Please provide a valid `DEEPDREAM_OUTPUT_PATH`\"\n",
    "\n",
    "\n",
    "device = \"cuda\" if torch.cuda.is_available() else \"cpu\"\n",
    "MODEL = vgg16_bn(weights=VGG16_BN_Weights.DEFAULT).to(device).eval()\n",
    "MODEL.requires_grad_(False);\n",
    "IMAGE_NET_CLASSES = read_image_net_classes(IMAGE_NET_CLASSES_PATH)"
   ]
  },
  {
   "cell_type": "code",
   "execution_count": null,
   "id": "185b239a",
   "metadata": {},
   "outputs": [],
   "source": []
  }
 ],
 "metadata": {
  "kernelspec": {
   "display_name": ".venv",
   "language": "python",
   "name": "python3"
  },
  "language_info": {
   "codemirror_mode": {
    "name": "ipython",
    "version": 3
   },
   "file_extension": ".py",
   "mimetype": "text/x-python",
   "name": "python",
   "nbconvert_exporter": "python",
   "pygments_lexer": "ipython3",
   "version": "3.12.3"
  }
 },
 "nbformat": 4,
 "nbformat_minor": 5
}
